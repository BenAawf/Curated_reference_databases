{
 "cells": [
  {
   "cell_type": "markdown",
   "metadata": {},
   "source": [
    "Prepare input files.\n",
    "\n",
    "The ailgnment has been produced using Reprophylo (see notebook). We'll just cleanup the sequence headers and create a local copy."
   ]
  },
  {
   "cell_type": "code",
   "execution_count": 5,
   "metadata": {
    "collapsed": true
   },
   "outputs": [],
   "source": [
    "!cat ../1-fetch_clean_align/trimmed_fish_12S_align.phy | sed 's/_f[0-9] / /' > alignment.phy"
   ]
  },
  {
   "cell_type": "markdown",
   "metadata": {},
   "source": [
    "The tax file has been generated from a Genbank file using this notebook."
   ]
  },
  {
   "cell_type": "code",
   "execution_count": 6,
   "metadata": {
    "collapsed": false
   },
   "outputs": [
    {
     "name": "stdout",
     "output_type": "stream",
     "text": [
      "AF038484.1\tEukaryota;Chordata;Actinopteri;Cypriniformes;Cyprinidae;Rutilus;Rutilus rutilus\r\n",
      "DQ447664.1\tEukaryota;Chordata;Actinopteri;Cypriniformes;Cyprinidae;Rutilus;Rutilus rutilus\r\n",
      "denovo56\tEukaryota;Chordata;Actinopteri;Cypriniformes;Cyprinidae;Rutilus;Rutilus rutilus\r\n",
      "AJ002630.1\tEukaryota;Chordata;Actinopteri;Cypriniformes;Cyprinidae;Rutilus;Rutilus rutilus\r\n",
      "HQ641696.1\tEukaryota;Chordata;Actinopteri;Salmoniformes;Salmonidae;Salmo;Salmo salar\r\n",
      "EU643689.1\tEukaryota;Chordata;Actinopteri;Salmoniformes;Salmonidae;Salmo;Salmo salar\r\n",
      "LC012541.1\tEukaryota;Chordata;Actinopteri;Salmoniformes;Salmonidae;Salmo;Salmo salar\r\n",
      "FJ710984.1\tEukaryota;Chordata;Actinopteri;Salmoniformes;Salmonidae;Salmo;Salmo salar\r\n",
      "JQ390056.1\tEukaryota;Chordata;Actinopteri;Salmoniformes;Salmonidae;Salmo;Salmo salar\r\n",
      "AF133701.1\tEukaryota;Chordata;Actinopteri;Salmoniformes;Salmonidae;Salmo;Salmo salar\r\n"
     ]
    }
   ],
   "source": [
    "!head tax_for_SATIVA.tax"
   ]
  },
  {
   "cell_type": "markdown",
   "metadata": {},
   "source": [
    "Let's now run SATIVA."
   ]
  },
  {
   "cell_type": "code",
   "execution_count": 7,
   "metadata": {
    "collapsed": false
   },
   "outputs": [
    {
     "name": "stdout",
     "output_type": "stream",
     "text": [
      "\n",
      "SATIVA v0.9-55-g0cbb090, released on 2016-06-28. Last version: https://github.com/amkozlov/sativa \n",
      "By A.Kozlov and J.Zhang, the Exelixis Lab. Based on RAxML 8.2.3 by A.Stamatakis.\n",
      "\n",
      "SATIVA was called as follows:\n",
      "\n",
      "./sativa/sativa.py -s alignment.phy -t tax_for_SATIVA.tax -x zoo -n 12S -o ./ -T 5 -v\n",
      "\n",
      "Mislabels search is running with the following parameters:\n",
      " Alignment:                        alignment.phy\n",
      " Taxonomy:                         tax_for_SATIVA.tax\n",
      " Output directory:                 /home/working/2-SATIVA\n",
      " Job name / output files prefix:   12S\n",
      " Model of rate heterogeneity:      AUTO\n",
      " Confidence cut-off:               0.000000\n",
      " Number of threads:                5\n",
      "\n",
      "*** STEP 1: Building the reference tree using provided alignment and taxonomic annotations ***\n",
      "\n",
      "=> Loading taxonomy from file: tax_for_SATIVA.tax ...\n",
      "\n",
      "==> Loading reference alignment from file: alignment.phy ...\n",
      "\n",
      "Guessing input format: not fasta\n",
      "Guessing input format: not phylip_relaxed\n",
      "===> Validating taxonomy and alignment ...\n",
      "\n",
      "NOTE: Following sequences are identical: AB218686.1, denovo69\n",
      "NOTE: Following sequences are identical: AF113120.1, AF125508.1, AF113121.1\n",
      "NOTE: Following sequences are identical: AP011263.1, denovo86\n",
      "NOTE: Following sequences are identical: AP009305.1, denovo84, denovo85\n",
      "NOTE: Following sequences are identical: KM410087.1, JQ999990.1\n",
      "NOTE: Following sequences are identical: AB238965.1, denovo10, denovo80\n",
      "NOTE: Following sequences are identical: KC292923.1, KC292943.1, KF384093.1, KC292934.1, KF384062.1\n",
      "NOTE: Following sequences are identical: KM410088.1, JQ999988.1\n",
      "NOTE: Following sequences are identical: KJ564245.1, AP007233.1\n",
      "NOTE: Following sequences are identical: JQ661382.1, JQ661480.1, JQ661474.1\n",
      "NOTE: Following sequences are identical: AY283316.1, AY283318.1\n",
      "NOTE: Following sequences are identical: KF856964.1, AP017364.1, KF856965.1, JN105357.1, KU159761.1, denovo79\n",
      "NOTE: Following sequences are identical: AB239596.1, denovo76\n",
      "NOTE: Following sequences are identical: HM162839.1, KJ729078.1, AP011217.1\n",
      "NOTE: Following sequences are identical: KJ746953.1, KJ729077.1, KJ679504.1\n",
      "NOTE: Following sequences are identical: KF384091.1, KF384065.1, KF384070.1\n",
      "NOTE: Following sequences are identical: LC012541.1, HQ167667.1\n",
      "NOTE: Following sequences are identical: KJ564230.1, KJ564269.1\n",
      "NOTE: Following sequences are identical: JX899750.1, denovo95\n",
      "NOTE: Following sequences are identical: KJ564239.1, KJ564228.1, AF266494.1, AF266495.1, denovo7\n",
      "NOTE: Following sequences are identical: KF147851.1, KJ476998.1, KM657133.1\n",
      "NOTE: Following sequences are identical: denovo62, denovo63\n",
      "NOTE: Following sequences are identical: KJ874428.1, AB111951.1, AB379915.1, KJ874430.1\n",
      "NOTE: Following sequences are identical: JQ231115.1, HQ891005.1\n",
      "NOTE: Following sequences are identical: KJ671449.1, KJ671450.1\n",
      "NOTE: Following sequences are identical: AP011209.1, denovo54\n",
      "NOTE: Following sequences are identical: KC844053.1, KM201364.1\n",
      "NOTE: Following sequences are identical: KC292931.1, KC292930.1\n",
      "\n",
      "NOTE: Found 48 sequence duplicates\n",
      "====> Building a multifurcating tree from taxonomy with 354 seqs ...\n",
      "\n",
      "Total nodes in resulting tree: 354\n",
      "=====> Building the reference alignment ...\n",
      "\n",
      "======> Saving the outgroup for later re-rooting ...\n",
      "\n",
      "Outgroup for rooting was saved to: /home/working/2-SATIVA/sativa/tmp/12S_1494352016744/12S_outgr.tre, outgroup size: 2\n",
      "=======> Resolving multifurcation: choosing the best topology from 1 independent RAxML runs ...\n",
      "\n",
      "\n",
      "Reducing the alignment: \n",
      "\n",
      "/home/working/2-SATIVA/sativa/raxml//run_raxml.sh -w /home/working/2-SATIVA/sativa/tmp/12S_1494352016744 -T 5 -f c -s /home/working/2-SATIVA/sativa/tmp/12S_1494352016744/12S_matrix.afa --no-dup-check -m GTRGAMMA -n reduce --verbose -p 13332\n",
      "\n",
      "\n",
      "Constrained ML inference: \n",
      "\n",
      "/home/working/2-SATIVA/sativa/raxml//run_raxml.sh -w /home/working/2-SATIVA/sativa/tmp/12S_1494352016744 -T 5 -s /home/working/2-SATIVA/sativa/tmp/12S_1494352016744/12S_matrix.afa -g /home/working/2-SATIVA/sativa/tmp/12S_1494352016744/12S_mfu.tre --no-seq-check -N 1 -m GTRGAMMA -n mfresolv_12S --verbose -p 326\n",
      "\n",
      "\n",
      "GAMMA-based logLH of the reference tree: -14226.621466\n",
      "\n",
      "========> Calling RAxML-EPA to obtain branch labels ...\n",
      "\n",
      "/home/working/2-SATIVA/sativa/raxml//run_raxml.sh -w /home/working/2-SATIVA/sativa/tmp/12S_1494352016744 -T 5 -s /home/working/2-SATIVA/sativa/tmp/12S_1494352016744/12S_lblq.fa -t /home/working/2-SATIVA/sativa/tmp/12S_1494352016744/12S_bfu.tre --no-seq-check -f y --epa-accumulated-threshold 0.999 -R /home/working/2-SATIVA/sativa/tmp/12S_1494352016744/12S.opt -m GTRGAMMA -n epalbl_12S --verbose -p 26407\n",
      "\n",
      "=========> Post-processing the EPA tree (re-rooting, taxonomic labeling etc.) ...\n",
      "\n",
      "\n",
      "==========> Checking branch labels ...\n",
      "shared rank names before training: set(['Eukaryota', 'Chordata'])\n",
      "shared rank names after  training: set(['Eukaryota', '-', 'Chordata'])\n",
      "\n",
      "==========> Saving the reference JSON file: ./12S.refjson\n",
      "\n",
      "Calculating the speciation rate...\n",
      "\n",
      "Writing down the reference file...\n",
      "\n",
      "*** STEP 2: Searching for mislabels ***\n",
      "\n",
      "Running the leave-one-sequence-out test...\n",
      "\n",
      "/home/working/2-SATIVA/sativa/raxml//run_raxml.sh -w /home/working/2-SATIVA/sativa/tmp/12S_1494352016744 -T 5 -s /home/working/2-SATIVA/sativa/tmp/12S_1494352016744/12S.refaln -t /home/working/2-SATIVA/sativa/tmp/12S_1494352016744/ref_12S.tre --no-seq-check -f O --epa-accumulated-threshold 0.999 -R /home/working/2-SATIVA/sativa/tmp/12S_1494352016744/12S.opt -m GTRGAMMA -n l1out_seq_12S --verbose -p 13332\n",
      "\n",
      "Leave-one-out test identified 12 suspicious sequences; running final EPA test to check them...\n",
      "\n",
      "/home/working/2-SATIVA/sativa/raxml//run_raxml.sh -w /home/working/2-SATIVA/sativa/tmp/12S_1494352016744 -T 5 -s /home/working/2-SATIVA/sativa/tmp/12S_1494352016744/12S.refaln -t /home/working/2-SATIVA/sativa/tmp/12S_1494352016744/final_ref_12S.tre --no-seq-check -f v --epa-accumulated-threshold 0.999 -m GTRGAMMA -n final_epa_12S --verbose -p 326\n",
      "\n",
      "EU075178.1\tOrder\tPleuronectiformes\tPerciformes\t0.553\tEukaryota;Chordata;Actinopteri;Pleuronectiformes;Pleuronectidae;Platichthys;Platichthys flesus\tEukaryota;Chordata;Actinopteri;Perciformes;Gasterosteidae;Pungitius;Pungitius pungitius\t0.999;0.999;0.987;0.553;0.242;0.228;0.228\n",
      "\n",
      "AJ002633.1\tOrder\tGadiformes\tPerciformes\t0.282\tEukaryota;Chordata;Actinopteri;Gadiformes;Lotidae;Lota;Lota lota\tEukaryota;Chordata;Actinopteri;Perciformes;Percidae;Sander;Sander lucioperca\t0.999;0.999;0.979;0.282;0.276;0.225;0.225\n",
      "\n",
      "JQ231114.1\tGenus\tHypophthalmichthys\tCtenopharyngodon\t1.000\tEukaryota;Chordata;Actinopteri;Cypriniformes;Cyprinidae;Hypophthalmichthys;Hypophthalmichthys molitrix\tEukaryota;Chordata;Actinopteri;Cypriniformes;Cyprinidae;Ctenopharyngodon;Ctenopharyngodon idella\t1.000;1.000;1.000;1.000;1.000;1.000;1.000\n",
      "\n",
      "KJ135626.1\tGenus\tPseudorasbora\tCyprinus\t0.625\tEukaryota;Chordata;Actinopteri;Cypriniformes;Cyprinidae;Pseudorasbora;Pseudorasbora parva\tEukaryota;Chordata;Actinopteri;Cypriniformes;Cyprinidae;Cyprinus;Cyprinus carpio\t1.000;1.000;0.625;0.625;0.625;0.625;0.625\n",
      "\n",
      "Y12671.1\tSpecies\tRhodeus sericeus\tRhodeus amarus\t0.998\tEukaryota;Chordata;Actinopteri;Cypriniformes;Cyprinidae;Rhodeus;Rhodeus sericeus\tEukaryota;Chordata;Actinopteri;Cypriniformes;Cyprinidae;Rhodeus;Rhodeus amarus\t1.000;1.000;1.000;1.000;1.000;1.000;0.998\n",
      "\n",
      "KJ746953.1\tSpecies\tHypophthalmichthys molitrix\tHypophthalmichthys nobilis\t0.962\tEukaryota;Chordata;Actinopteri;Cypriniformes;Cyprinidae;Hypophthalmichthys;Hypophthalmichthys molitrix\tEukaryota;Chordata;Actinopteri;Cypriniformes;Cyprinidae;Hypophthalmichthys;Hypophthalmichthys nobilis\t1.000;1.000;1.000;1.000;1.000;1.000;0.962\n",
      "\n",
      "KC292943.1\tSpecies\tHypophthalmichthys nobilis\tHypophthalmichthys molitrix\t0.624\tEukaryota;Chordata;Actinopteri;Cypriniformes;Cyprinidae;Hypophthalmichthys;Hypophthalmichthys nobilis\tEukaryota;Chordata;Actinopteri;Cypriniformes;Cyprinidae;Hypophthalmichthys;Hypophthalmichthys molitrix\t0.999;0.999;0.999;0.999;0.999;0.980;0.624\n",
      "\n",
      "Mislabeled sequences by rank:\n",
      "Order       :\t2\n",
      "Genus       :\t2\n",
      "Species     :\t3\n",
      "\n",
      "Total mislabels: 7 / 1.98 %\n",
      "\n",
      "Results were saved to: /home/working/2-SATIVA/12S.mis\n",
      "Execution log was saved to: /home/working/2-SATIVA/12S.log\n",
      "\n",
      "Analysis completed successfully, elapsed time: 102 seconds (28s reftree, 74s leave-one-out)\n",
      "\n"
     ]
    }
   ],
   "source": [
    "!./sativa/sativa.py -s alignment.phy -t tax_for_SATIVA.tax -x zoo -n 12S -o ./ -T 5 -v"
   ]
  },
  {
   "cell_type": "markdown",
   "metadata": {},
   "source": [
    "SATIVA (among other things) writes a report to a text file."
   ]
  },
  {
   "cell_type": "code",
   "execution_count": 8,
   "metadata": {
    "collapsed": false
   },
   "outputs": [
    {
     "name": "stdout",
     "output_type": "stream",
     "text": [
      ";WARNING: The revised taxon name suggested here is not necessarily the one that has priority in nomenclature. \r\n",
      ";Our suggestion should only be taken as indicative of an affiliation to the same group, whose correct name must be determined \r\n",
      ";in an additional step according to the specific rules of nomenclature that apply to the studied organisms.\r\n",
      ";\r\n",
      ";SeqID\tMislabeledLevel\tOriginalLabel\tProposedLabel\tConfidence\tOriginalTaxonomyPath\tProposedTaxonomyPath\tPerRankConfidence\r\n",
      "EU075178.1\tOrder\tPleuronectiformes\tPerciformes\t0.553\tEukaryota;Chordata;Actinopteri;Pleuronectiformes;Pleuronectidae;Platichthys;Platichthys flesus\tEukaryota;Chordata;Actinopteri;Perciformes;Gasterosteidae;Pungitius;Pungitius pungitius\t0.999;0.999;0.987;0.553;0.242;0.228;0.228\r\n",
      "AJ002633.1\tOrder\tGadiformes\tPerciformes\t0.282\tEukaryota;Chordata;Actinopteri;Gadiformes;Lotidae;Lota;Lota lota\tEukaryota;Chordata;Actinopteri;Perciformes;Percidae;Sander;Sander lucioperca\t0.999;0.999;0.979;0.282;0.276;0.225;0.225\r\n",
      "JQ231114.1\tGenus\tHypophthalmichthys\tCtenopharyngodon\t1.000\tEukaryota;Chordata;Actinopteri;Cypriniformes;Cyprinidae;Hypophthalmichthys;Hypophthalmichthys molitrix\tEukaryota;Chordata;Actinopteri;Cypriniformes;Cyprinidae;Ctenopharyngodon;Ctenopharyngodon idella\t1.000;1.000;1.000;1.000;1.000;1.000;1.000\r\n",
      "KJ135626.1\tGenus\tPseudorasbora\tCyprinus\t0.625\tEukaryota;Chordata;Actinopteri;Cypriniformes;Cyprinidae;Pseudorasbora;Pseudorasbora parva\tEukaryota;Chordata;Actinopteri;Cypriniformes;Cyprinidae;Cyprinus;Cyprinus carpio\t1.000;1.000;0.625;0.625;0.625;0.625;0.625\r\n",
      "Y12671.1\tSpecies\tRhodeus sericeus\tRhodeus amarus\t0.998\tEukaryota;Chordata;Actinopteri;Cypriniformes;Cyprinidae;Rhodeus;Rhodeus sericeus\tEukaryota;Chordata;Actinopteri;Cypriniformes;Cyprinidae;Rhodeus;Rhodeus amarus\t1.000;1.000;1.000;1.000;1.000;1.000;0.998\r\n",
      "KJ746953.1\tSpecies\tHypophthalmichthys molitrix\tHypophthalmichthys nobilis\t0.962\tEukaryota;Chordata;Actinopteri;Cypriniformes;Cyprinidae;Hypophthalmichthys;Hypophthalmichthys molitrix\tEukaryota;Chordata;Actinopteri;Cypriniformes;Cyprinidae;Hypophthalmichthys;Hypophthalmichthys nobilis\t1.000;1.000;1.000;1.000;1.000;1.000;0.962\r\n",
      "KC292943.1\tSpecies\tHypophthalmichthys nobilis\tHypophthalmichthys molitrix\t0.624\tEukaryota;Chordata;Actinopteri;Cypriniformes;Cyprinidae;Hypophthalmichthys;Hypophthalmichthys nobilis\tEukaryota;Chordata;Actinopteri;Cypriniformes;Cyprinidae;Hypophthalmichthys;Hypophthalmichthys molitrix\t0.999;0.999;0.999;0.999;0.999;0.980;0.624\r\n"
     ]
    }
   ],
   "source": [
    "!cat 12S.mis"
   ]
  },
  {
   "cell_type": "code",
   "execution_count": null,
   "metadata": {
    "collapsed": true
   },
   "outputs": [],
   "source": []
  }
 ],
 "metadata": {
  "kernelspec": {
   "display_name": "Python 2",
   "language": "python",
   "name": "python2"
  },
  "language_info": {
   "codemirror_mode": {
    "name": "ipython",
    "version": 2
   },
   "file_extension": ".py",
   "mimetype": "text/x-python",
   "name": "python",
   "nbconvert_exporter": "python",
   "pygments_lexer": "ipython2",
   "version": "2.7.6"
  }
 },
 "nbformat": 4,
 "nbformat_minor": 0
}
