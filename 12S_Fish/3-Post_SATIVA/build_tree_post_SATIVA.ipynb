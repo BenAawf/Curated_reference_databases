{
 "cells": [
  {
   "cell_type": "markdown",
   "metadata": {},
   "source": [
    "Exclude the records that SATIVA has highligted, redo the alignment and rebuild the tree."
   ]
  },
  {
   "cell_type": "code",
   "execution_count": 1,
   "metadata": {
    "collapsed": true
   },
   "outputs": [],
   "source": [
    "from reprophylo import *"
   ]
  },
  {
   "cell_type": "code",
   "execution_count": 2,
   "metadata": {
    "collapsed": false
   },
   "outputs": [
    {
     "name": "stderr",
     "output_type": "stream",
     "text": [
      "DEBUG:Cloud:Log file (/root/.picloud/cloud.log) opened\n"
     ]
    }
   ],
   "source": [
    "pj=Project('../1-fetch_clean_align/fish_target_locus.csv', pickle='Fish_post_SATIVA.pkl', git=False)"
   ]
  },
  {
   "cell_type": "code",
   "execution_count": 3,
   "metadata": {
    "collapsed": false
   },
   "outputs": [
    {
     "name": "stderr",
     "output_type": "stream",
     "text": [
      "/home/reprophylo/reprophylo.py:1015: UserWarning: Version control off\n",
      "  warnings.warn('Version control off')\n"
     ]
    }
   ],
   "source": [
    "pj.read_embl_genbank(['../1-fetch_clean_align/12S_preSATIVA_fish.gb'])"
   ]
  },
  {
   "cell_type": "code",
   "execution_count": 4,
   "metadata": {
    "collapsed": true
   },
   "outputs": [],
   "source": [
    "pj.extract_by_locus()"
   ]
  },
  {
   "cell_type": "markdown",
   "metadata": {},
   "source": [
    "Set the stage:"
   ]
  },
  {
   "cell_type": "code",
   "execution_count": 5,
   "metadata": {
    "collapsed": false
   },
   "outputs": [
    {
     "name": "stdout",
     "output_type": "stream",
     "text": [
      "to drop: 0\n",
      "to keep: 0\n",
      "TOTAL: 0\n"
     ]
    }
   ],
   "source": [
    "recs_to_keep = {'12S_r_RNA': []}\n",
    "recs_to_drop = {'12S_r_RNA': []}\n",
    "\n",
    "print \"to drop: %s\" %len(recs_to_drop['12S_r_RNA'])\n",
    "print \"to keep: %s\" %len(recs_to_keep['12S_r_RNA'])\n",
    "\n",
    "print \"TOTAL: %s\" %(len(recs_to_drop['12S_r_RNA']) + len(recs_to_keep['12S_r_RNA']))"
   ]
  },
  {
   "cell_type": "markdown",
   "metadata": {},
   "source": [
    "Record all record ids and assign them the status keep."
   ]
  },
  {
   "cell_type": "code",
   "execution_count": 6,
   "metadata": {
    "collapsed": true
   },
   "outputs": [],
   "source": [
    "for r in pj.records_by_locus['12S_r_RNA']:\n",
    "    recs_to_keep['12S_r_RNA'].append(\"_\".join(r.id.split(\"_\")[:-1]))"
   ]
  },
  {
   "cell_type": "code",
   "execution_count": 7,
   "metadata": {
    "collapsed": false
   },
   "outputs": [
    {
     "name": "stdout",
     "output_type": "stream",
     "text": [
      "to drop: 0\n",
      "to keep: 354\n",
      "TOTAL: 354\n"
     ]
    }
   ],
   "source": [
    "print \"to drop: %s\" %len(recs_to_drop['12S_r_RNA'])\n",
    "print \"to keep: %s\" %len(recs_to_keep['12S_r_RNA'])\n",
    "\n",
    "print \"TOTAL: %s\" %(len(recs_to_drop['12S_r_RNA']) + len(recs_to_keep['12S_r_RNA']))"
   ]
  },
  {
   "cell_type": "raw",
   "metadata": {},
   "source": [
    "Adjust lists -> add record to exlusion list and remove record from inclusion list.\n",
    "AF154850.1 is Salvelinus fontinalis can not distinguish with Salvelinus alpinus\n",
    "EU048341.1 is Salmo trutta but clade with Salmo salar \n",
    "JN007557.1 is Salmo trutta but clade with Salmo salar \n",
    "JN007558.1 is Salmo trutta but clade with Salmo salar\n",
    "KM052222.1 is Rhodeus sericeus can not distinguish with Rhodeus amarus\n",
    "KU821707.1 is Carassius auratus but clade with Cyprinus carpio\n",
    "DQ447667.1 is Chondrostoma nasus but clade with Rutilus rutilus, and no this species in UK"
   ]
  },
  {
   "cell_type": "code",
   "execution_count": 8,
   "metadata": {
    "collapsed": false
   },
   "outputs": [
    {
     "name": "stdout",
     "output_type": "stream",
     "text": [
      "7\n"
     ]
    }
   ],
   "source": [
    "recs_to_drop['12S_r_RNA'].append('AF154850.1')\n",
    "recs_to_drop['12S_r_RNA'].append('EU048341.1')\n",
    "recs_to_drop['12S_r_RNA'].append('JN007557.1')\n",
    "recs_to_drop['12S_r_RNA'].append('JN007558.1')\n",
    "recs_to_drop['12S_r_RNA'].append('KM052222.1')\n",
    "recs_to_drop['12S_r_RNA'].append('KU821707.1')\n",
    "recs_to_drop['12S_r_RNA'].append('DQ447667.1')\n",
    "\n",
    "print len(recs_to_drop['12S_r_RNA'])"
   ]
  },
  {
   "cell_type": "code",
   "execution_count": 9,
   "metadata": {
    "collapsed": false
   },
   "outputs": [
    {
     "name": "stdout",
     "output_type": "stream",
     "text": [
      "AF154850.1\n",
      "EU048341.1\n",
      "JN007557.1\n",
      "JN007558.1\n",
      "KM052222.1\n",
      "KU821707.1\n",
      "DQ447667.1\n",
      "347\n"
     ]
    }
   ],
   "source": [
    "for i in range(len(recs_to_drop['12S_r_RNA'])):\n",
    "    print recs_to_drop['12S_r_RNA'][i]\n",
    "    for r in range(len(recs_to_keep['12S_r_RNA'])):\n",
    "        if recs_to_drop['12S_r_RNA'][i] in recs_to_keep['12S_r_RNA'][r]:\n",
    "            del(recs_to_keep['12S_r_RNA'][r])\n",
    "            break\n",
    "print len(recs_to_keep['12S_r_RNA'])"
   ]
  },
  {
   "cell_type": "markdown",
   "metadata": {},
   "source": [
    "How many do we want to drop? Parse SATIVA output and extract records ids putatively mislabeled."
   ]
  },
  {
   "cell_type": "code",
   "execution_count": 10,
   "metadata": {
    "collapsed": false
   },
   "outputs": [],
   "source": [
    "rec_mislabelled = {}\n",
    "sativa=open('../2-SATIVA/12S.mis', 'r')\n",
    "\n",
    "for line in sativa:\n",
    "    if not line.startswith(\";\"):\n",
    "        rec_mislabelled[line.split(\"\\t\")[0]] = line.split(\"\\t\")[4]"
   ]
  },
  {
   "cell_type": "code",
   "execution_count": 11,
   "metadata": {
    "collapsed": false
   },
   "outputs": [
    {
     "name": "stdout",
     "output_type": "stream",
     "text": [
      "7\n"
     ]
    }
   ],
   "source": [
    "print len(rec_mislabelled)"
   ]
  },
  {
   "cell_type": "markdown",
   "metadata": {},
   "source": [
    "Adjust lists accordingly."
   ]
  },
  {
   "cell_type": "code",
   "execution_count": 12,
   "metadata": {
    "collapsed": false
   },
   "outputs": [
    {
     "name": "stdout",
     "output_type": "stream",
     "text": [
      "Y12671.1\n",
      "\tadd to droplist\n",
      "\tremove from keeplist\n",
      "KC292943.1\n",
      "\tadd to droplist\n",
      "\tremove from keeplist\n",
      "EU075178.1\n",
      "\tadd to droplist\n",
      "\tremove from keeplist\n",
      "JQ231114.1\n",
      "\tadd to droplist\n",
      "\tremove from keeplist\n",
      "KJ135626.1\n",
      "\tadd to droplist\n",
      "\tremove from keeplist\n",
      "KJ746953.1\n",
      "\tadd to droplist\n",
      "\tremove from keeplist\n",
      "AJ002633.1\n",
      "\tadd to droplist\n",
      "\tremove from keeplist\n"
     ]
    }
   ],
   "source": [
    "for r in rec_mislabelled:\n",
    "    print r\n",
    "    if not r in recs_to_drop['12S_r_RNA']:\n",
    "        print \"\\tadd to droplist\"\n",
    "        recs_to_drop['12S_r_RNA'].append(r)\n",
    "    for i in reversed(range(len(recs_to_keep['12S_r_RNA']))):\n",
    "#        print i\n",
    "        if r in recs_to_keep['12S_r_RNA'][i]:\n",
    "            print \"\\tremove from keeplist\"\n",
    "            del(recs_to_keep['12S_r_RNA'][i])"
   ]
  },
  {
   "cell_type": "code",
   "execution_count": 13,
   "metadata": {
    "collapsed": false
   },
   "outputs": [
    {
     "name": "stdout",
     "output_type": "stream",
     "text": [
      "to drop: 14\n",
      "to keep: 340\n",
      "TOTAL: 354\n"
     ]
    }
   ],
   "source": [
    "print \"to drop: %s\" %len(recs_to_drop['12S_r_RNA'])\n",
    "print \"to keep: %s\" %len(recs_to_keep['12S_r_RNA'])\n",
    "\n",
    "print \"TOTAL: %s\" %(len(recs_to_drop['12S_r_RNA']) + len(recs_to_keep['12S_r_RNA']))"
   ]
  },
  {
   "cell_type": "markdown",
   "metadata": {},
   "source": [
    "Write out good records in full Genbank format including all metadata. Adjust to valid species and taxids before doing it.\n",
    "\n",
    "Identify records with Subspecies."
   ]
  },
  {
   "cell_type": "code",
   "execution_count": 14,
   "metadata": {
    "collapsed": false
   },
   "outputs": [
    {
     "name": "stdout",
     "output_type": "stream",
     "text": [
      "Cyprinus carpio  .. add to records - 7962\n",
      "Cobitis taenia  .. add to records - 98395\n",
      "subspecies: Cyprinus carpio 'wananensis'\n",
      "Pungitius pungitius  .. add to records - 134920\n",
      "Esox lucius  .. add to records - 8010\n",
      "Cobitis taenia  .. already covered\n",
      "Hypophthalmichthys molitrix  .. add to records - 13095\n",
      "Salmo salar  .. add to records - 8030\n",
      "Oncorhynchus mykiss  .. add to records - 8022\n",
      "Hypophthalmichthys molitrix  .. already covered\n",
      "Phoxinus phoxinus  .. add to records - 58324\n",
      "Salmo salar  .. already covered\n",
      "Ambloplites rupestris  .. add to records - 109273\n",
      "Coregonus lavaretus  .. add to records - 59291\n",
      "Alburnus alburnus  .. add to records - 54556\n",
      "Hypophthalmichthys molitrix  .. already covered\n",
      "Salmo salar  .. already covered\n",
      "Acipenser sturio  .. add to records - 61674\n",
      "Anguilla anguilla  .. add to records - 7936\n",
      "Hypophthalmichthys nobilis  .. add to records - 7965\n",
      "Alburnoides bipunctatus  .. add to records - 58321\n",
      "Blicca bjoerkna  .. add to records - 58317\n",
      "Gasterosteus aculeatus  .. add to records - 69293\n",
      "Hypophthalmichthys molitrix  .. already covered\n",
      "Pungitius pungitius  .. already covered\n",
      "Solea solea  .. add to records - 90069\n",
      "Pimephales promelas  .. add to records - 90988\n",
      "Hypophthalmichthys molitrix  .. already covered\n",
      "Platichthys flesus  .. add to records - 8260\n",
      "subspecies: Cyprinus carpio haematopterus\n",
      "Squalius cephalus  .. add to records - 8284\n",
      "Alosa fallax  .. add to records - 278165\n",
      "Neogobius melanostomus  .. add to records - 47308\n",
      "Ameiurus nebulosus  .. add to records - 27778\n",
      "Ameiurus nebulosus  .. already covered\n",
      "Solea solea  .. already covered\n",
      "Anguilla anguilla  .. already covered\n",
      "subspecies: Gasterosteus aculeatus williamsoni\n",
      "Hypophthalmichthys molitrix  .. already covered\n",
      "Pimephales promelas  .. already covered\n",
      "Coregonus lavaretus  .. already covered\n",
      "Salmo trutta  .. add to records - 8032\n",
      "Pimephales promelas  .. already covered\n",
      "Squalius cephalus  .. already covered\n",
      "Salmo salar  .. already covered\n",
      "Cyprinus carpio  .. already covered\n",
      "Pimephales promelas  .. already covered\n",
      "Lepomis gibbosus  .. add to records - 270329\n",
      "Pungitius pungitius  .. already covered\n",
      "Pungitius pungitius  .. already covered\n",
      "Anguilla anguilla  .. already covered\n",
      "Gasterosteus aculeatus  .. already covered\n",
      "Coregonus autumnalis  .. add to records - 27773\n",
      "Hypophthalmichthys molitrix  .. already covered\n",
      "Blicca bjoerkna  .. already covered\n",
      "Ctenopharyngodon idella  .. add to records - 7959\n",
      "Hypophthalmichthys nobilis  .. already covered\n",
      "Pimephales promelas  .. already covered\n",
      "Pungitius pungitius  .. already covered\n",
      "Carassius auratus  .. add to records - 7957\n",
      "Cobitis taenia  .. already covered\n",
      "Carassius auratus  .. already covered\n",
      "Micropterus salmoides  .. add to records - 27706\n",
      "subspecies: Carassius auratus auratus\n",
      "Ambloplites rupestris  .. already covered\n",
      "Micropterus salmoides  .. already covered\n",
      "subspecies: Carassius auratus ssp. 'Pingxiang'\n",
      "Pungitius pungitius  .. already covered\n",
      "Pungitius pungitius  .. already covered\n",
      "Cyprinus carpio  .. already covered\n",
      "Salvelinus alpinus  .. add to records - 8036\n",
      "Salmo salar  .. already covered\n",
      "Gasterosteus aculeatus  .. already covered\n",
      "Anguilla anguilla  .. already covered\n",
      "Carassius carassius  .. add to records - 217509\n",
      "Anguilla anguilla  .. already covered\n",
      "Cyprinus carpio  .. already covered\n",
      "Rhodeus amarus  .. add to records - 98397\n",
      "Hypophthalmichthys molitrix  .. already covered\n",
      "Anguilla anguilla  .. already covered\n",
      "Hypophthalmichthys nobilis  .. already covered\n",
      "Alburnus alburnus  .. already covered\n",
      "Salmo salar  .. already covered\n",
      "Carassius auratus  .. already covered\n",
      "Umbra pygmaea  .. add to records - 75934\n",
      "Ctenopharyngodon idella  .. already covered\n",
      "Oncorhynchus mykiss  .. already covered\n",
      "Cottus gobio  .. add to records - 100952\n",
      "Salvelinus alpinus  .. already covered\n",
      "Coregonus oxyrinchus  .. add to records - 348708\n",
      "Salvelinus alpinus  .. already covered\n",
      "Ctenopharyngodon idella  .. already covered\n",
      "Carassius auratus  .. already covered\n",
      "Umbra pygmaea  .. already covered\n",
      "Anguilla anguilla  .. already covered\n",
      "Solea solea  .. already covered\n",
      "Carassius auratus  .. already covered\n",
      "Carassius auratus  .. already covered\n",
      "Hypophthalmichthys molitrix  .. already covered\n",
      "Ameiurus melas  .. add to records - 219545\n",
      "Perca fluviatilis  .. add to records - 8168\n",
      "Gasterosteus aculeatus  .. already covered\n",
      "Hypophthalmichthys nobilis  .. already covered\n",
      "Perca fluviatilis  .. already covered\n",
      "Oncorhynchus mykiss  .. already covered\n",
      "Sander lucioperca  .. add to records - 283035\n",
      "Coregonus lavaretus  .. already covered\n",
      "subspecies: Carassius auratus auratus\n",
      "Oncorhynchus mykiss  .. already covered\n",
      "Carassius auratus  .. already covered\n",
      "Salmo salar  .. already covered\n",
      "Osmerus eperlanus  .. add to records - 29151\n",
      "Hypophthalmichthys nobilis  .. already covered\n",
      "Phoxinus phoxinus  .. already covered\n",
      "Hypophthalmichthys molitrix  .. already covered\n",
      "Pungitius pungitius  .. already covered\n",
      "Petromyzon marinus  .. add to records - 7757\n",
      "Oncorhynchus mykiss  .. already covered\n",
      "Hypophthalmichthys molitrix  .. already covered\n",
      "Perca fluviatilis  .. already covered\n",
      "Pomatoschistus minutus  .. add to records - 13225\n",
      "Phoxinus phoxinus  .. already covered\n",
      "Pimephales promelas  .. already covered\n",
      "Rutilus rutilus  .. add to records - 48668\n",
      "Ctenopharyngodon idella  .. already covered\n",
      "Lepomis gibbosus  .. already covered\n",
      "Anguilla anguilla  .. already covered\n",
      "Pseudorasbora parva  .. add to records - 51549\n",
      "Esox lucius  .. already covered\n",
      "Esox lucius  .. already covered\n",
      "subspecies: Salmo trutta fario\n",
      "Oncorhynchus gorbuscha  .. add to records - 8017\n",
      "Carassius auratus  .. already covered\n",
      "Pimephales promelas  .. already covered\n",
      "Ctenopharyngodon idella  .. already covered\n",
      "Esox lucius  .. already covered\n",
      "Salmo salar  .. already covered\n",
      "Barbus barbus  .. add to records - 40830\n",
      "subspecies: Micropterus salmoides salmoides\n",
      "Pungitius pungitius  .. already covered\n",
      "Scardinius erythrophthalmus  .. add to records - 58319\n",
      "Pimephales promelas  .. already covered\n",
      "subspecies: Salmo trutta fario\n",
      "subspecies: Carassius auratus auratus\n",
      "subspecies: Carassius auratus auratus\n",
      "Esox lucius  .. already covered\n",
      "Hypophthalmichthys nobilis  .. already covered\n",
      "Gobio gobio  .. add to records - 27704\n",
      "subspecies: Cyprinus carpio 'wuyuanensis'\n",
      "Hypophthalmichthys molitrix  .. already covered\n",
      "Anguilla anguilla  .. already covered\n",
      "Thymallus thymallus  .. add to records - 36185\n",
      "subspecies: Carassius auratus ssp. 'Kinbuna'\n",
      "Pungitius pungitius  .. already covered\n",
      "Hypophthalmichthys molitrix  .. already covered\n",
      "Acipenser sturio  .. already covered\n",
      "subspecies: Abramis brama orientalis\n",
      "Anguilla anguilla  .. already covered\n",
      "Abramis brama  .. add to records - 38527\n",
      "Tinca tinca  .. add to records - 27717\n",
      "Oncorhynchus mykiss  .. already covered\n",
      "Thymallus thymallus  .. already covered\n",
      "Rhodeus amarus  .. already covered\n",
      "Scardinius erythrophthalmus  .. already covered\n",
      "subspecies: Phoxinus phoxinus tumensis\n",
      "Cyprinus carpio  .. already covered\n",
      "Anguilla anguilla  .. already covered\n",
      "Salmo salar  .. already covered\n",
      "Anguilla anguilla  .. already covered\n",
      "Rutilus rutilus  .. already covered\n",
      "Hypophthalmichthys nobilis  .. already covered\n",
      "Pomatoschistus minutus  .. already covered\n",
      "Leucaspius delineatus  .. add to records - 58323\n",
      "Hypophthalmichthys molitrix  .. already covered\n",
      "Silurus glanis  .. add to records - 94993\n",
      "Pungitius pungitius  .. already covered\n",
      "Anguilla anguilla  .. already covered\n",
      "Pungitius pungitius  .. already covered\n",
      "Pungitius pungitius  .. already covered\n",
      "Alosa alosa  .. add to records - 278164\n",
      "Esox lucius  .. already covered\n",
      "Thymallus thymallus  .. already covered\n",
      "Lota lota  .. add to records - 69944\n",
      "subspecies: Salmo trutta trutta\n",
      "Barbatula barbatula  .. add to records - 135647\n",
      "Coregonus lavaretus  .. already covered\n",
      "subspecies: Cyprinus carpio 'color'\n",
      "Pomatoschistus minutus  .. already covered\n",
      "Pungitius pungitius  .. already covered\n",
      "Anguilla anguilla  .. already covered\n",
      "Gasterosteus aculeatus  .. already covered\n",
      "Carassius auratus  .. already covered\n",
      "Hypophthalmichthys molitrix  .. already covered\n",
      "Anguilla anguilla  .. already covered\n",
      "Hypophthalmichthys nobilis  .. already covered\n",
      "Salvelinus alpinus  .. already covered\n",
      "Perca fluviatilis  .. already covered\n",
      "Cyprinus carpio  .. already covered\n",
      "Salmo salar  .. already covered\n",
      "Oncorhynchus mykiss  .. already covered\n",
      "Oncorhynchus mykiss  .. already covered\n",
      "Lota lota  .. already covered\n",
      "Ameiurus melas  .. already covered\n",
      "Lota lota  .. already covered\n",
      "Pseudorasbora parva  .. already covered\n",
      "Perca fluviatilis  .. already covered\n",
      "subspecies: Carassius auratus auratus\n",
      "subspecies: Carassius auratus grandoculis\n",
      "Micropterus salmoides  .. already covered\n",
      "Coregonus lavaretus  .. already covered\n",
      "Leuciscus idus  .. add to records - 69811\n",
      "Salmo salar  .. already covered\n",
      "Cyprinus carpio  .. already covered\n",
      "Salmo salar  .. already covered\n",
      "Ctenopharyngodon idella  .. already covered\n",
      "Ameiurus melas  .. already covered\n",
      "Anguilla anguilla  .. already covered\n",
      "Anguilla anguilla  .. already covered\n",
      "Pimephales promelas  .. already covered\n",
      "Perca fluviatilis  .. already covered\n",
      "Barbus barbus  .. already covered\n",
      "Micropterus salmoides  .. already covered\n",
      "Perca fluviatilis  .. already covered\n",
      "Salvelinus alpinus  .. already covered\n",
      "Perca fluviatilis  .. already covered\n",
      "Oncorhynchus mykiss  .. already covered\n",
      "Gymnocephalus cernua  .. add to records - 57865\n",
      "Sander lucioperca  .. already covered\n",
      "Thymallus thymallus  .. already covered\n",
      "Hypophthalmichthys molitrix  .. already covered\n",
      "Cobitis taenia  .. already covered\n",
      "subspecies: Gasterosteus aculeatus williamsoni\n",
      "Rutilus rutilus  .. already covered\n",
      "Salvelinus alpinus  .. already covered\n",
      "Salmo salar  .. already covered\n",
      "Hypophthalmichthys molitrix  .. already covered\n",
      "Pseudorasbora parva  .. already covered\n",
      "Hypophthalmichthys nobilis  .. already covered\n",
      "Cyprinus carpio  .. already covered\n",
      "Hypophthalmichthys molitrix  .. already covered\n",
      "Lampetra fluviatilis  .. add to records - 7748\n",
      "Ponticola kessleri  .. add to records - 320565\n",
      "Pseudorasbora parva  .. already covered\n",
      "Anguilla anguilla  .. already covered\n",
      "Oncorhynchus mykiss  .. already covered\n",
      "Sander lucioperca  .. already covered\n",
      "Oncorhynchus mykiss  .. already covered\n",
      "Gymnocephalus cernua  .. already covered\n",
      "Salmo salar  .. already covered\n",
      "Hypophthalmichthys nobilis  .. already covered\n",
      "Rhodeus amarus  .. already covered\n",
      "Coregonus lavaretus  .. already covered\n",
      "Perca fluviatilis  .. already covered\n",
      "Hypophthalmichthys nobilis  .. already covered\n",
      "subspecies: Salmo trutta fario\n",
      "Gasterosteus aculeatus  .. already covered\n",
      "Cyprinus carpio  .. already covered\n",
      "Pimephales promelas  .. already covered\n",
      "Sander lucioperca  .. already covered\n",
      "Lota lota  .. already covered\n",
      "Hypophthalmichthys molitrix  .. already covered\n",
      "Esox lucius  .. already covered\n",
      "Perca fluviatilis  .. already covered\n",
      "Anguilla anguilla  .. already covered\n",
      "Phoxinus phoxinus  .. already covered\n",
      "Hypophthalmichthys molitrix  .. already covered\n",
      "Alburnus alburnus  .. already covered\n",
      "Alburnus alburnus  .. already covered\n",
      "Anguilla anguilla  .. already covered\n",
      "Anguilla anguilla  .. already covered\n",
      "Anguilla anguilla  .. already covered\n",
      "Barbatula barbatula  .. already covered\n",
      "Barbus barbus  .. already covered\n",
      "Cobitis taenia  .. already covered\n",
      "Cottus gobio  .. already covered\n",
      "Cottus gobio  .. already covered\n",
      "Cottus gobio  .. already covered\n",
      "Cottus gobio  .. already covered\n",
      "Cyprinus carpio  .. already covered\n",
      "Gasterosteus aculeatus  .. already covered\n",
      "Gasterosteus aculeatus  .. already covered\n",
      "Gymnocephalus cernua  .. already covered\n",
      "Lepomis gibbosus  .. already covered\n",
      "Lepomis gibbosus  .. already covered\n",
      "Lepomis gibbosus  .. already covered\n",
      "Leuciscus idus  .. already covered\n",
      "Leuciscus leuciscus  .. add to records - 58325\n",
      "Leuciscus leuciscus  .. already covered\n",
      "Lota lota  .. already covered\n",
      "Misgurnus bipartitus  .. add to records - 341117\n",
      "Misgurnus bipartitus  .. already covered\n",
      "Misgurnus fossilis  .. add to records - 7984\n",
      "Misgurnus fossilis  .. already covered\n",
      "Neogobius fluviatilis  .. add to records - 320562\n",
      "Osmerus eperlanus  .. already covered\n",
      "Osmerus eperlanus  .. already covered\n",
      "Platichthys flesus  .. already covered\n",
      "Platichthys flesus  .. already covered\n",
      "Pomatoschistus minutus  .. already covered\n",
      "Pomatoschistus minutus  .. already covered\n",
      "Ponticola kessleri  .. already covered\n",
      "Rhodeus amarus  .. already covered\n",
      "Rhodeus amarus  .. already covered\n",
      "Rutilus rutilus  .. already covered\n",
      "Salmo trutta  .. already covered\n",
      "Silurus glanis  .. already covered\n",
      "Solea solea  .. already covered\n",
      "Solea solea  .. already covered\n",
      "Squalius cephalus  .. already covered\n",
      "Thymallus thymallus  .. already covered\n",
      "Tinca tinca  .. already covered\n",
      "Umbra pygmaea  .. already covered\n",
      "Tinca tinca  .. already covered\n",
      "Tinca tinca  .. already covered\n",
      "Salmo trutta  .. already covered\n",
      "Pungitius pungitius  .. already covered\n",
      "Pseudorasbora parva  .. already covered\n",
      "Pseudorasbora parva  .. already covered\n",
      "Gobio gobio  .. already covered\n",
      "Gobio gobio  .. already covered\n",
      "Esox lucius  .. already covered\n",
      "Esox lucius  .. already covered\n",
      "Cyprinus carpio  .. already covered\n",
      "Barbus barbus  .. already covered\n",
      "Barbatula barbatula  .. already covered\n",
      "Barbatula barbatula  .. already covered\n",
      "Barbatula barbatula  .. already covered\n",
      "Abramis brama  .. already covered\n",
      "Abramis brama  .. already covered\n",
      "Scardinius erythrophthalmus  .. already covered\n",
      "Perca fluviatilis  .. already covered\n",
      "Leuciscus leuciscus  .. already covered\n",
      "Squalius cephalus  .. already covered\n",
      "Squalius cephalus  .. already covered\n",
      "Lepomis gibbosus  .. already covered\n",
      "Gymnocephalus cernua  .. already covered\n",
      "Cottus gobio  .. already covered\n",
      "Coregonus albula  .. add to records - 36180\n",
      "Ameiurus nebulosus  .. already covered\n",
      "Barbatula barbatula  .. already covered\n"
     ]
    }
   ],
   "source": [
    "from collections import defaultdict\n",
    "\n",
    "Seqs = []\n",
    "taxon_to_taxid = {}\n",
    "recs_to_adjust = defaultdict(list)\n",
    "taxon_to_recs = defaultdict(list)\n",
    "\n",
    "for r in pj.records:\n",
    "    if r.id in recs_to_keep['12S_r_RNA']:\n",
    "        Seqs.append(r)\n",
    "        \n",
    "        source = [f for f in r.features if f.type == 'source'][0]\n",
    "\n",
    "        #screen for subspecies and record taxids of valid species\n",
    "        #if valid species record the taxid\n",
    "        if (len(source.qualifiers['organism'][0].split(\" \")) == 2):\n",
    "            print source.qualifiers['organism'][0],\n",
    "            if 'db_xref' in source.qualifiers:\n",
    "#                print source.qualifiers['db_xref']\n",
    "                for t in source.qualifiers['db_xref']:\n",
    "#                    print t\n",
    "                    if 'taxon' in t:\n",
    "                        if not source.qualifiers['organism'][0] in taxon_to_taxid:\n",
    "                            print \" .. add to records - %s\" %t.split(\":\")[1]\n",
    "                            taxon_to_taxid[source.qualifiers['organism'][0]] = t.split(\":\")[1]\n",
    "                        else:\n",
    "                            print \" .. already covered\"\n",
    "                        taxon_to_recs[source.qualifiers['organism'][0]].append(r.id)\n",
    "        #if the species status is 'sp.' but has a valid taxid\n",
    "        elif (len(source.qualifiers['organism'][0].split(\" \")) > 2) and ((source.qualifiers['organism'][0].split(\" \")[1] == 'sp.') or ('cf.' in source.qualifiers['organism'][0].split(\" \"))):\n",
    "            print source.qualifiers['organism'][0],\n",
    "            if 'db_xref' in source.qualifiers:\n",
    "                for t in source.qualifiers['db_xref']:\n",
    "                    if 'taxon' in t:\n",
    "                        if not source.qualifiers['organism'][0] in taxon_to_taxid:\n",
    "                            print \" .. add to records\"\n",
    "                            taxon_to_taxid[source.qualifiers['organism'][0]] = t.split(\":\")[1]\n",
    "                        else:\n",
    "                            print \" .. already covered\" \n",
    "                        taxon_to_recs[source.qualifiers['organism'][0]].append(r.id)\n",
    "        #all other cases we consider dubious, e.g. supspecies\n",
    "        else:\n",
    "            print \"subspecies: %s\" %source.qualifiers['organism'][0]\n",
    "            recs_to_adjust[r.id] = []"
   ]
  },
  {
   "cell_type": "markdown",
   "metadata": {},
   "source": [
    "Check if any of the taxa that were considered dubious are not already covered in the list after removing subspecies."
   ]
  },
  {
   "cell_type": "code",
   "execution_count": 15,
   "metadata": {
    "collapsed": false
   },
   "outputs": [
    {
     "name": "stdout",
     "output_type": "stream",
     "text": [
      "Cyprinus carpio 'wananensis' -> Cyprinus carpio\n",
      "Cyprinus carpio haematopterus -> Cyprinus carpio\n",
      "Gasterosteus aculeatus williamsoni -> Gasterosteus aculeatus\n",
      "Carassius auratus auratus -> Carassius auratus\n",
      "Carassius auratus ssp. 'Pingxiang' -> Carassius auratus\n",
      "Carassius auratus auratus -> Carassius auratus\n",
      "Salmo trutta fario -> Salmo trutta\n",
      "Micropterus salmoides salmoides -> Micropterus salmoides\n",
      "Salmo trutta fario -> Salmo trutta\n",
      "Carassius auratus auratus -> Carassius auratus\n",
      "Carassius auratus auratus -> Carassius auratus\n",
      "Cyprinus carpio 'wuyuanensis' -> Cyprinus carpio\n",
      "Carassius auratus ssp. 'Kinbuna' -> Carassius auratus\n",
      "Abramis brama orientalis -> Abramis brama\n",
      "Phoxinus phoxinus tumensis -> Phoxinus phoxinus\n",
      "Salmo trutta trutta -> Salmo trutta\n",
      "Cyprinus carpio 'color' -> Cyprinus carpio\n",
      "Carassius auratus auratus -> Carassius auratus\n",
      "Carassius auratus grandoculis -> Carassius auratus\n",
      "Gasterosteus aculeatus williamsoni -> Gasterosteus aculeatus\n",
      "Salmo trutta fario -> Salmo trutta\n"
     ]
    }
   ],
   "source": [
    "from collections import defaultdict\n",
    "\n",
    "to_fetch = defaultdict(list)\n",
    "\n",
    "for r in Seqs:\n",
    "    if r.id in recs_to_adjust:\n",
    "        source = [f for f in r.features if f.type == 'source'][0]\n",
    "        adjust_from = source.qualifiers['organism'][0]\n",
    "        adjust_to = \" \".join(adjust_from.split(\" \")[:2])\n",
    "        print \"%s -> %s\" %(adjust_from,adjust_to)\n",
    "        if adjust_to in taxon_to_taxid:\n",
    "            taxon_to_recs[adjust_to].append(r.id)\n",
    "            recs_to_adjust[r.id].append(adjust_to)\n",
    "            recs_to_adjust[r.id].append(taxon_to_taxid[adjust_to])\n",
    "        else:\n",
    "            to_fetch[adjust_to].append(r.id)\n",
    "            recs_to_adjust[r.id].append(adjust_to)"
   ]
  },
  {
   "cell_type": "code",
   "execution_count": 16,
   "metadata": {
    "collapsed": false
   },
   "outputs": [
    {
     "name": "stdout",
     "output_type": "stream",
     "text": [
      "0\n"
     ]
    }
   ],
   "source": [
    "print len(to_fetch)"
   ]
  },
  {
   "cell_type": "markdown",
   "metadata": {},
   "source": [
    "Modify the records (if necessary) - adjust subspecies to species."
   ]
  },
  {
   "cell_type": "code",
   "execution_count": 17,
   "metadata": {
    "collapsed": false
   },
   "outputs": [
    {
     "name": "stdout",
     "output_type": "stream",
     "text": [
      "adjusting KF856964.1\n",
      "Cyprinus carpio 'wananensis'\t->\tCyprinus carpio\n",
      "adjusting JX188254.1\n",
      "Cyprinus carpio haematopterus\t->\tCyprinus carpio\n",
      "adjusting KM273828.1\n",
      "Gasterosteus aculeatus williamsoni\t->\tGasterosteus aculeatus\n",
      "adjusting AP011236.1\n",
      "Carassius auratus auratus\t->\tCarassius auratus\n",
      "adjusting HQ875340.1\n",
      "Carassius auratus ssp. 'Pingxiang'\t->\tCarassius auratus\n",
      "adjusting GU086395.1\n",
      "Carassius auratus auratus\t->\tCarassius auratus\n",
      "adjusting KP171723.1\n",
      "Salmo trutta fario\t->\tSalmo trutta\n",
      "adjusting HQ391896.1\n",
      "Micropterus salmoides salmoides\t->\tMicropterus salmoides\n",
      "adjusting GU233801.1\n",
      "Salmo trutta fario\t->\tSalmo trutta\n",
      "adjusting AB111951.1\n",
      "Carassius auratus auratus\t->\tCarassius auratus\n",
      "adjusting AB379915.1\n",
      "Carassius auratus auratus\t->\tCarassius auratus\n",
      "adjusting JN105357.1\n",
      "Cyprinus carpio 'wuyuanensis'\t->\tCyprinus carpio\n",
      "adjusting LC069402.1\n",
      "Carassius auratus ssp. 'Kinbuna'\t->\tCarassius auratus\n",
      "adjusting KC894466.1\n",
      "Abramis brama orientalis\t->\tAbramis brama\n",
      "adjusting KC992395.1\n",
      "Phoxinus phoxinus tumensis\t->\tPhoxinus phoxinus\n",
      "adjusting AM910409.1\n",
      "Salmo trutta trutta\t->\tSalmo trutta\n",
      "adjusting JX188253.1\n",
      "Cyprinus carpio 'color'\t->\tCyprinus carpio\n",
      "adjusting GU086397.1\n",
      "Carassius auratus auratus\t->\tCarassius auratus\n",
      "adjusting AP011239.1\n",
      "Carassius auratus grandoculis\t->\tCarassius auratus\n",
      "adjusting KM282418.1\n",
      "Gasterosteus aculeatus williamsoni\t->\tGasterosteus aculeatus\n",
      "adjusting KT634053.1\n",
      "Salmo trutta fario\t->\tSalmo trutta\n"
     ]
    }
   ],
   "source": [
    "for r in Seqs:\n",
    "    if r.id in recs_to_adjust:\n",
    "        print \"adjusting %s\" %r.id\n",
    "        source = r.features[0]\n",
    "        print \"%s\\t->\\t%s\" %(source.qualifiers['organism'][0],recs_to_adjust[r.id][0])\n",
    "        source = r.features[0]\n",
    "        source.qualifiers['organism'] = [recs_to_adjust[r.id][0]]\n",
    "        for i in range(len(source.qualifiers['db_xref'])):\n",
    "            if 'taxon' in source.qualifiers['db_xref'][i]:\n",
    "                source.qualifiers['db_xref'][i] = \"taxon:\"+recs_to_adjust[r.id][1]\n",
    "        if not 'note' in source.qualifiers:\n",
    "            source.qualifiers['note'] = ['modified from original record: adjusted to species']\n",
    "        else:\n",
    "            source.qualifiers['note'].append('modified from original record: adjusted to species')\n",
    "# print r.format('genbank') \n",
    "# print r,recs_to_adjust[r]"
   ]
  },
  {
   "cell_type": "markdown",
   "metadata": {},
   "source": [
    "Write only good records with all metadata in Genbank format."
   ]
  },
  {
   "cell_type": "code",
   "execution_count": 18,
   "metadata": {
    "collapsed": true
   },
   "outputs": [],
   "source": [
    "from Bio import SeqIO\n",
    "       \n",
    "out = open('../12S_Fish_SATIVA_cleaned_May_2017.gb','w')\n",
    "SeqIO.write(Seqs, out, \"genbank\")\n",
    "out.close()"
   ]
  },
  {
   "cell_type": "markdown",
   "metadata": {},
   "source": [
    "Exclude the records that were highlighted by SATIVA. Then realign and rebuild phylogeny."
   ]
  },
  {
   "cell_type": "code",
   "execution_count": 19,
   "metadata": {
    "collapsed": true
   },
   "outputs": [],
   "source": [
    "pj.exclude(start_from_max=False, **recs_to_drop)"
   ]
  },
  {
   "cell_type": "code",
   "execution_count": 20,
   "metadata": {
    "collapsed": false
   },
   "outputs": [
    {
     "name": "stdout",
     "output_type": "stream",
     "text": [
      "Total number of records: 340\n",
      "Number of species (see below for full list): 65\n",
      "['Abramis brama', 'Acipenser sturio', 'Alburnoides bipunctatus', 'Alburnus alburnus', 'Alosa alosa', 'Alosa fallax', 'Ambloplites rupestris', 'Ameiurus melas', 'Ameiurus nebulosus', 'Anguilla anguilla', 'Barbatula barbatula', 'Barbus barbus', 'Blicca bjoerkna', 'Carassius auratus', 'Carassius carassius', 'Cobitis taenia', 'Coregonus albula', 'Coregonus autumnalis', 'Coregonus lavaretus', 'Coregonus oxyrinchus', 'Cottus gobio', 'Ctenopharyngodon idella', 'Cyprinus carpio', 'Esox lucius', 'Gasterosteus aculeatus', 'Gobio gobio', 'Gymnocephalus cernua', 'Hypophthalmichthys molitrix', 'Hypophthalmichthys nobilis', 'Lampetra fluviatilis', 'Lepomis gibbosus', 'Leucaspius delineatus', 'Leuciscus idus', 'Leuciscus leuciscus', 'Lota lota', 'Micropterus salmoides', 'Misgurnus bipartitus', 'Misgurnus fossilis', 'Neogobius fluviatilis', 'Neogobius melanostomus', 'Oncorhynchus gorbuscha', 'Oncorhynchus mykiss', 'Osmerus eperlanus', 'Perca fluviatilis', 'Petromyzon marinus', 'Phoxinus phoxinus', 'Pimephales promelas', 'Platichthys flesus', 'Pomatoschistus minutus', 'Ponticola kessleri', 'Pseudorasbora parva', 'Pungitius pungitius', 'Rhodeus amarus', 'Rutilus rutilus', 'Salmo salar', 'Salmo trutta', 'Salvelinus alpinus', 'Sander lucioperca', 'Scardinius erythrophthalmus', 'Silurus glanis', 'Solea solea', 'Squalius cephalus', 'Thymallus thymallus', 'Tinca tinca', 'Umbra pygmaea']\n"
     ]
    }
   ],
   "source": [
    "species=[]\n",
    "for r in pj.records:\n",
    "    if r.id in recs_to_keep['12S_r_RNA']:\n",
    "        source = [f for f in r.features if f.type == 'source'][0]\n",
    "        species.append(\" \".join(source.qualifiers['organism'][0].split()[0:2]))\n",
    "    \n",
    "#print set(species)\n",
    "total=len(species)\n",
    "species=list(set(species))\n",
    "\n",
    "print \"Total number of records: %i\" %total\n",
    "print \"Number of species (see below for full list): %i\" %len(species)\n",
    "print sorted(species)"
   ]
  },
  {
   "cell_type": "code",
   "execution_count": 21,
   "metadata": {
    "collapsed": true
   },
   "outputs": [],
   "source": [
    "fish_list = open(\"12S_Fish_SATIVA_species_list.txt\",\"w\") \n",
    "for species_names in species:\n",
    "  fish_list.write(\"%s\\n\" %  species_names)\n",
    "fish_list.close()\n",
    "\n",
    "!sort 12S_Fish_SATIVA_species_list.txt > ../12S_Fish_SATIVA_species_list_sort.txt"
   ]
  },
  {
   "cell_type": "markdown",
   "metadata": {},
   "source": [
    "Pickle the project."
   ]
  },
  {
   "cell_type": "code",
   "execution_count": 22,
   "metadata": {
    "collapsed": false
   },
   "outputs": [
    {
     "data": {
      "text/plain": [
       "'Fish_post_SATIVA.pkl'"
      ]
     },
     "execution_count": 22,
     "metadata": {},
     "output_type": "execute_result"
    }
   ],
   "source": [
    "pickle_pj(pj, 'Fish_post_SATIVA.pkl')"
   ]
  },
  {
   "cell_type": "markdown",
   "metadata": {},
   "source": [
    "#Alignment"
   ]
  },
  {
   "cell_type": "markdown",
   "metadata": {},
   "source": [
    "Now, need to produce a sequence alignment file based on an alignment of all 12S sequences. This will be done with the AlnConf class."
   ]
  },
  {
   "cell_type": "code",
   "execution_count": 23,
   "metadata": {
    "collapsed": false
   },
   "outputs": [],
   "source": [
    "pj = unpickle_pj('Fish_post_SATIVA.pkl', git=False)"
   ]
  },
  {
   "cell_type": "markdown",
   "metadata": {},
   "source": [
    "muscle default configuration:"
   ]
  },
  {
   "cell_type": "code",
   "execution_count": 24,
   "metadata": {
    "collapsed": false
   },
   "outputs": [
    {
     "name": "stdout",
     "output_type": "stream",
     "text": [
      "mafft --localpair --maxiterate 1000 942771494352256.01_12S_r_RNA.fasta\n"
     ]
    }
   ],
   "source": [
    "mafft_linsi = AlnConf(pj,                              # The Project\n",
    "                      method_name='mafftLinsi',        # Any unique method name,\n",
    "                      CDSAlign=False,                  # Use this method to align\n",
    "                      #codontable=5,                   # The genetic code that\n",
    "                      program_name='mafft',            # mafft or muscle.\n",
    "                      cmd='mafft',                     # The command on your machine\n",
    "                      loci=['12S_r_RNA'],                    # A list of loci names to align.vel.\n",
    "                      cline_args={'localpair': True,   # Program specific keywords and arguments.\n",
    "                                  'maxiterate': 1000}  # cine_args=={} by default, which will\n",
    "                     )"
   ]
  },
  {
   "cell_type": "code",
   "execution_count": 25,
   "metadata": {
    "collapsed": false
   },
   "outputs": [],
   "source": [
    "pj.align([mafft_linsi])"
   ]
  },
  {
   "cell_type": "code",
   "execution_count": 26,
   "metadata": {
    "collapsed": false
   },
   "outputs": [
    {
     "name": "stdout",
     "output_type": "stream",
     "text": [
      "AlnConf named mafftLinsi with ID 942771494352256.01\n",
      "Loci: 12S_r_RNA \n",
      "Created on: Tue May  9 17:50:56 2017\n",
      "Commands:\n",
      "12S_r_RNA: mafft --localpair --maxiterate 1000 942771494352256.01_12S_r_RNA.fasta\n",
      "\n",
      "Environment:\n",
      "Platform: Linux-4.4.0-75-generic-x86_64-with-Ubuntu-14.04-trusty\n",
      " Processor: x86_64\n",
      " Python build: defaultMar 22 2014 22:59:56\n",
      " Python compiler: GCC 4.8.2\n",
      " Python implementation: CPython\n",
      " Python version: 2.7.6\n",
      " ete2 version: 2.2.1072\n",
      " biopython version: 1.68\n",
      " dendropy version: 3.12.2\n",
      " cloud version: 2.8.5\n",
      " reprophylo version 1.3\n",
      " User: biopc3\n",
      " Program and version: MAFFT v7.123b\n",
      " Program reference:Katoh\n",
      " Standley 2013 (Molecular Biology and Evolution 30:772-780) MAFFT multiple sequence alignment software version 7: improvements in performance and usability.\n",
      "execution time:\n",
      "314.60315299\n",
      "\n",
      "\n",
      "==============================\n",
      "Core Methods section sentence:\n",
      "==============================\n",
      "The dataset(s) 12S_r_RNA were aligned using the program MAFFT v7.123b [1].\n",
      "\n",
      "Reference:\n",
      "Katoh, Standley 2013 (Molecular Biology and Evolution 30:772-780) MAFFT multiple sequence alignment software version 7: improvements in performance and usability.\n",
      "\n"
     ]
    }
   ],
   "source": [
    "print pj.used_methods['mafftLinsi']"
   ]
  },
  {
   "cell_type": "code",
   "execution_count": 27,
   "metadata": {
    "collapsed": false
   },
   "outputs": [
    {
     "data": {
      "text/plain": [
       "{'12S_r_RNA@mafftLinsi': <<class 'Bio.Align.MultipleSeqAlignment'> instance (340 records of length 1352, IUPACProtein()) at 7f6c00e2fa10>}"
      ]
     },
     "execution_count": 27,
     "metadata": {},
     "output_type": "execute_result"
    }
   ],
   "source": [
    "pj.alignments"
   ]
  },
  {
   "cell_type": "code",
   "execution_count": 28,
   "metadata": {
    "collapsed": false
   },
   "outputs": [
    {
     "data": {
      "text/plain": [
       "['12S_r_RNA@mafftLinsi_aln.fasta']"
      ]
     },
     "execution_count": 28,
     "metadata": {},
     "output_type": "execute_result"
    }
   ],
   "source": [
    "pj.write_alns(id=['record_id','source_organism'], format='fasta')"
   ]
  },
  {
   "cell_type": "markdown",
   "metadata": {},
   "source": [
    "Pickle the project."
   ]
  },
  {
   "cell_type": "code",
   "execution_count": 29,
   "metadata": {
    "collapsed": false
   },
   "outputs": [
    {
     "data": {
      "text/plain": [
       "'Fish_post_SATIVA.pkl'"
      ]
     },
     "execution_count": 29,
     "metadata": {},
     "output_type": "execute_result"
    }
   ],
   "source": [
    "pickle_pj(pj, 'Fish_post_SATIVA.pkl')"
   ]
  },
  {
   "cell_type": "markdown",
   "metadata": {},
   "source": [
    "#Alignment trimming"
   ]
  },
  {
   "cell_type": "code",
   "execution_count": 30,
   "metadata": {
    "collapsed": true
   },
   "outputs": [],
   "source": [
    "pj = unpickle_pj('Fish_post_SATIVA.pkl', git=False)"
   ]
  },
  {
   "cell_type": "markdown",
   "metadata": {},
   "source": [
    "Trim the alignment."
   ]
  },
  {
   "cell_type": "code",
   "execution_count": 31,
   "metadata": {
    "collapsed": false
   },
   "outputs": [
    {
     "name": "stdout",
     "output_type": "stream",
     "text": [
      "trimal -in 469381494352571.8_12S_r_RNA@mafftLinsi.fasta -gappyout\n"
     ]
    }
   ],
   "source": [
    "gappyout = TrimalConf(pj,                           # The Project\n",
    "                      method_name='gappyout',       # Any unique string ('gappyout' is default)\n",
    "                      program_name='trimal',        # No alternatives in this ReproPhylo version\n",
    "                      cmd='default',                # default = trimal. Change here or in pj.defaults['trimal']\n",
    "                      alns=['12S_r_RNA@mafftLinsi'],  # 'all' by default\n",
    "                      trimal_commands={'gappyout': True} # By default, the gappyout algorithm is used.\n",
    "                     )"
   ]
  },
  {
   "cell_type": "code",
   "execution_count": 32,
   "metadata": {
    "collapsed": true
   },
   "outputs": [],
   "source": [
    "pj.trim([gappyout])"
   ]
  },
  {
   "cell_type": "code",
   "execution_count": 33,
   "metadata": {
    "collapsed": false
   },
   "outputs": [
    {
     "name": "stdout",
     "output_type": "stream",
     "text": [
      "TrimalConf named gappyout with ID 469381494352571.8\n",
      "Alignments: 12S_r_RNA@mafftLinsi \n",
      "Created on: Tue May  9 17:56:11 2017\n",
      "Commands:\n",
      "12S_r_RNA@mafftLinsi@gappyout: trimal -in 469381494352571.8_12S_r_RNA@mafftLinsi.fasta -gappyout\n",
      "\n",
      "Environment:Platform: Linux-4.4.0-75-generic-x86_64-with-Ubuntu-14.04-trusty\n",
      " Processor: x86_64\n",
      " Python build: defaultMar 22 2014 22:59:56\n",
      " Python compiler: GCC 4.8.2\n",
      " Python implementation: CPython\n",
      " Python version: 2.7.6\n",
      " ete2 version: 2.2.1072\n",
      " biopython version: 1.68\n",
      " dendropy version: 3.12.2\n",
      " cloud version: 2.8.5\n",
      " reprophylo version 1.3\n",
      " User: biopc3\n",
      " Program and version: trimAl 1.2rev59\n",
      " Program reference: Salvador Capella-Gutierrez; Jose M. Silla-Martinez; Toni Gabaldon. trimAl: a tool for automated alignment trimming in large-scale phylogenetic analyses. Bioinformatics 2009 25: 1972-1973.\n",
      "execution time:\n",
      "2.14150810242\n",
      "\n",
      "==============================\n",
      "Core Methods section sentence:\n",
      "==============================\n",
      "The alignment(s) 12S_r_RNA@mafftLinsi were trimmed using the program trimAl 1.2rev59 [1].\n",
      "\n",
      "Reference:\n",
      "Salvador Capella-Gutierrez; Jose M. Silla-Martinez; Toni Gabaldon. trimAl: a tool for automated alignment trimming in large-scale phylogenetic analyses. Bioinformatics 2009 25: 1972-1973.\n",
      "\n"
     ]
    }
   ],
   "source": [
    "print pj.used_methods['gappyout']"
   ]
  },
  {
   "cell_type": "code",
   "execution_count": 34,
   "metadata": {
    "collapsed": false
   },
   "outputs": [
    {
     "data": {
      "text/plain": [
       "{'12S_r_RNA@mafftLinsi@gappyout': <<class 'Bio.Align.MultipleSeqAlignment'> instance (340 records of length 689, IUPACAmbiguousDNA()) at 7f6c0028d6d0>}"
      ]
     },
     "execution_count": 34,
     "metadata": {},
     "output_type": "execute_result"
    }
   ],
   "source": [
    "pj.trimmed_alignments"
   ]
  },
  {
   "cell_type": "code",
   "execution_count": 35,
   "metadata": {
    "collapsed": false
   },
   "outputs": [
    {
     "data": {
      "text/plain": [
       "['12S_r_RNA@mafftLinsi@gappyout_trimmed_aln.fasta']"
      ]
     },
     "execution_count": 35,
     "metadata": {},
     "output_type": "execute_result"
    }
   ],
   "source": [
    "pj.write_trimmed_alns(id=['record_id','source_organism'], format='fasta')"
   ]
  },
  {
   "cell_type": "markdown",
   "metadata": {},
   "source": [
    "Trimmed alignments can be viewed in the same way as alignments, but using this command:"
   ]
  },
  {
   "cell_type": "code",
   "execution_count": 36,
   "metadata": {
    "collapsed": true
   },
   "outputs": [],
   "source": [
    "pj.show_aln('12S_r_RNA@mafftLinsi@gappyout',id=['source_organism'])"
   ]
  },
  {
   "cell_type": "markdown",
   "metadata": {},
   "source": [
    "Pickle the project."
   ]
  },
  {
   "cell_type": "code",
   "execution_count": 37,
   "metadata": {
    "collapsed": false
   },
   "outputs": [
    {
     "data": {
      "text/plain": [
       "'Fish_post_SATIVA.pkl'"
      ]
     },
     "execution_count": 37,
     "metadata": {},
     "output_type": "execute_result"
    }
   ],
   "source": [
    "pickle_pj(pj, 'Fish_post_SATIVA.pkl')"
   ]
  },
  {
   "cell_type": "markdown",
   "metadata": {},
   "source": [
    "## Build tree"
   ]
  },
  {
   "cell_type": "code",
   "execution_count": 38,
   "metadata": {
    "collapsed": true
   },
   "outputs": [],
   "source": [
    "pj = unpickle_pj('Fish_post_SATIVA.pkl', git=False)"
   ]
  },
  {
   "cell_type": "markdown",
   "metadata": {},
   "source": [
    "Infer Maximum Likelihood tree based on the clipped alignment. We are going to use RAxML. \n",
    "\n",
    "Configure RAxML for trimmed mafft linsi alignment."
   ]
  },
  {
   "cell_type": "code",
   "execution_count": 39,
   "metadata": {
    "collapsed": false
   },
   "outputs": [
    {
     "name": "stdout",
     "output_type": "stream",
     "text": [
      "raxmlHPC-PTHREADS-SSE3 -f a -m GTRGAMMA -n 302421494352575.49_12S_r_RNA@mafftLinsi@gappyout0 -p 787 -s 302421494352575.49_12S_r_RNA@mafftLinsi@gappyout.fasta -T 5 -x 886 -N 100\n"
     ]
    }
   ],
   "source": [
    "raxml = RaxmlConf(pj, \n",
    "                  method_name='raxml-mafftLinsi-SATIVA-trimmed',\n",
    "                  program_name='raxmlHPC-PTHREADS-SSE3',\n",
    "                  keepfiles=True,\n",
    "                  cmd='raxmlHPC-PTHREADS-SSE3',\n",
    "                  preset='fa',\n",
    "                  alns=['12S_r_RNA@mafftLinsi@gappyout'],\n",
    "                  model='GAMMA',\n",
    "                  threads=5,\n",
    "                  cline_args={'-#': 100})"
   ]
  },
  {
   "cell_type": "markdown",
   "metadata": {},
   "source": [
    "Infer tree."
   ]
  },
  {
   "cell_type": "code",
   "execution_count": 40,
   "metadata": {
    "collapsed": false
   },
   "outputs": [],
   "source": [
    "pj.tree([raxml])"
   ]
  },
  {
   "cell_type": "code",
   "execution_count": 41,
   "metadata": {
    "collapsed": false
   },
   "outputs": [
    {
     "name": "stdout",
     "output_type": "stream",
     "text": [
      "RaxmlConf named raxml-mafftLinsi-SATIVA-trimmed with ID 302421494352575.49\n",
      "Alignments: 12S_r_RNA@mafftLinsi@gappyout \n",
      "Created on: Tue May  9 17:56:15 2017\n",
      "Commands:\n",
      "12S_r_RNA@mafftLinsi@gappyout:\n",
      "raxmlHPC-PTHREADS-SSE3 -f a -m GTRGAMMA -n 302421494352575.49_12S_r_RNA@mafftLinsi@gappyout0 -p 787 -s 302421494352575.49_12S_r_RNA@mafftLinsi@gappyout.fasta -T 5 -x 886 -N 100\n",
      "\n",
      "Environment:\n",
      "Platform: Linux-4.4.0-75-generic-x86_64-with-Ubuntu-14.04-trusty\n",
      " Processor: x86_64\n",
      " Python build: defaultMar 22 2014 22:59:56\n",
      " Python compiler: GCC 4.8.2\n",
      " Python implementation: CPython\n",
      " Python version: 2.7.6\n",
      " ete2 version: 2.2.1072\n",
      " biopython version: 1.68\n",
      " dendropy version: 3.12.2\n",
      " cloud version: 2.8.5\n",
      " reprophylo version 1.3\n",
      " User: biopc3\n",
      " Program and version: raxmlHPC-PTHREADS-SSE3RAxML version 8.0.12\n",
      " Program reference: A. Stamatakis: RAxML Version 8: A tool for Phylogenetic Analysis and Post-Analysis of Large Phylogenies. In Bioinformatics\n",
      " 2014.\n",
      "execution time:\n",
      "1671.50975013\n",
      "\n",
      "==============================\n",
      "Core Methods section sentence:\n",
      "==============================\n",
      "Phylogenetic trees were reconstructed from the dataset(s) 12S_r_RNA@mafftLinsi@gappyout using the program raxmlHPC-PTHREADS-SSE3RAxML version 8.0.12 [1].\n",
      "\n",
      "Reference:\n",
      "A. Stamatakis: RAxML Version 8: A tool for Phylogenetic Analysis and Post-Analysis of Large Phylogenies. In Bioinformatics, 2014.\n",
      "\n"
     ]
    }
   ],
   "source": [
    "print pj.used_methods['raxml-mafftLinsi-SATIVA-trimmed']"
   ]
  },
  {
   "cell_type": "code",
   "execution_count": 42,
   "metadata": {
    "collapsed": false
   },
   "outputs": [
    {
     "data": {
      "text/plain": [
       "'Fish_post_SATIVA.pkl'"
      ]
     },
     "execution_count": 42,
     "metadata": {},
     "output_type": "execute_result"
    }
   ],
   "source": [
    "pickle_pj(pj, 'Fish_post_SATIVA.pkl')"
   ]
  },
  {
   "cell_type": "markdown",
   "metadata": {},
   "source": [
    "# Visualise Tree"
   ]
  },
  {
   "cell_type": "markdown",
   "metadata": {},
   "source": [
    "Now let's visualize the tree.Prepare tree annotation:\n",
    "\n",
    "- define outgroups\n",
    "- specify support coloration"
   ]
  },
  {
   "cell_type": "code",
   "execution_count": 43,
   "metadata": {
    "collapsed": true
   },
   "outputs": [],
   "source": [
    "pj.add_qualifier_from_source('organism')"
   ]
  },
  {
   "cell_type": "code",
   "execution_count": 44,
   "metadata": {
    "collapsed": true
   },
   "outputs": [],
   "source": [
    "supports = {'black': [100,95],\n",
    "            'dimgray': [95,75],\n",
    "            'silver': [75,50]}"
   ]
  },
  {
   "cell_type": "code",
   "execution_count": 45,
   "metadata": {
    "collapsed": true
   },
   "outputs": [],
   "source": [
    "for species in ['Lampetra']:\n",
    "    pj.if_this_then_that(species, 'organism', 'outgroup', 'outgroup',\n",
    "                         mode='part')"
   ]
  },
  {
   "cell_type": "code",
   "execution_count": 46,
   "metadata": {
    "collapsed": true
   },
   "outputs": [],
   "source": [
    "pj.clear_tree_annotations()\n",
    "\n",
    "pj.annotate('.', 'outgroup','outgroup',\n",
    "            ['source_organism', 'record_id'], \n",
    "            node_support_dict=supports, multifurc=10,\n",
    "            scale=10, ##This will determine the width of the tree (default 1000)\n",
    "            html='mafftLinsi-fish-trimmed-raxml-post_SATIVA.html')"
   ]
  },
  {
   "cell_type": "markdown",
   "metadata": {},
   "source": [
    "Create a static copy of the tree (the last *.png with the expected alignment id) for later."
   ]
  },
  {
   "cell_type": "code",
   "execution_count": 47,
   "metadata": {
    "collapsed": true
   },
   "outputs": [],
   "source": [
    "%%bash\n",
    "\n",
    "last_png=$(ls -hlrt *12S_r_RNA@mafftLinsi@gappyout.png | tail -n 1 | perl -ne 'chomp; @a=split(\" \"); print \"$a[-1]\"')\n",
    "cp $last_png 12S_mafftLinsi-fish-trimmed-raxml-post_SATIVA.png"
   ]
  },
  {
   "cell_type": "markdown",
   "metadata": {},
   "source": [
    "Pickle the project."
   ]
  },
  {
   "cell_type": "code",
   "execution_count": 48,
   "metadata": {
    "collapsed": false
   },
   "outputs": [
    {
     "data": {
      "text/plain": [
       "'Fish_post_SATIVA.pkl'"
      ]
     },
     "execution_count": 48,
     "metadata": {},
     "output_type": "execute_result"
    }
   ],
   "source": [
    "pickle_pj(pj, 'Fish_post_SATIVA.pkl')"
   ]
  },
  {
   "cell_type": "markdown",
   "metadata": {},
   "source": [
    "**=======================================================================================================**"
   ]
  }
 ],
 "metadata": {
  "kernelspec": {
   "display_name": "Python 2",
   "language": "python",
   "name": "python2"
  },
  "language_info": {
   "codemirror_mode": {
    "name": "ipython",
    "version": 2
   },
   "file_extension": ".py",
   "mimetype": "text/x-python",
   "name": "python",
   "nbconvert_exporter": "python",
   "pygments_lexer": "ipython2",
   "version": "2.7.6"
  }
 },
 "nbformat": 4,
 "nbformat_minor": 0
}
